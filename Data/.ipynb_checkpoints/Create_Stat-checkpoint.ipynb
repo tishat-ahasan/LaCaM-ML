{
 "cells": [
  {
   "cell_type": "code",
   "execution_count": 1,
   "id": "1b9f2854-e046-40da-b2f7-a0a7173deddc",
   "metadata": {},
   "outputs": [],
   "source": [
    "import pandas as pd\n",
    "data = pd.read_csv('Stat_32by32/data_on_1000_instance_2.txt')\n",
    "data = data[data['Solved'] != 0]"
   ]
  },
  {
   "cell_type": "code",
   "execution_count": 2,
   "id": "baae16bf-e939-4e74-bd6d-9f891f2742d9",
   "metadata": {
    "scrolled": true
   },
   "outputs": [
    {
     "data": {
      "text/html": [
       "<div>\n",
       "<style scoped>\n",
       "    .dataframe tbody tr th:only-of-type {\n",
       "        vertical-align: middle;\n",
       "    }\n",
       "\n",
       "    .dataframe tbody tr th {\n",
       "        vertical-align: top;\n",
       "    }\n",
       "\n",
       "    .dataframe thead th {\n",
       "        text-align: right;\n",
       "    }\n",
       "</style>\n",
       "<table border=\"1\" class=\"dataframe\">\n",
       "  <thead>\n",
       "    <tr style=\"text-align: right;\">\n",
       "      <th></th>\n",
       "      <th>Agent</th>\n",
       "      <th>Seed</th>\n",
       "      <th>Heuristic</th>\n",
       "      <th>Solved</th>\n",
       "      <th>HNode</th>\n",
       "      <th>LNode</th>\n",
       "      <th>Time</th>\n",
       "      <th>Makespan</th>\n",
       "      <th>SOC</th>\n",
       "      <th>SOL</th>\n",
       "    </tr>\n",
       "  </thead>\n",
       "  <tbody>\n",
       "    <tr>\n",
       "      <th>0</th>\n",
       "      <td>50</td>\n",
       "      <td>0</td>\n",
       "      <td>ML</td>\n",
       "      <td>1</td>\n",
       "      <td>44</td>\n",
       "      <td>200</td>\n",
       "      <td>74</td>\n",
       "      <td>43</td>\n",
       "      <td>1320</td>\n",
       "      <td>1184</td>\n",
       "    </tr>\n",
       "    <tr>\n",
       "      <th>1</th>\n",
       "      <td>50</td>\n",
       "      <td>0</td>\n",
       "      <td>distance</td>\n",
       "      <td>1</td>\n",
       "      <td>44</td>\n",
       "      <td>198</td>\n",
       "      <td>31</td>\n",
       "      <td>43</td>\n",
       "      <td>1326</td>\n",
       "      <td>1193</td>\n",
       "    </tr>\n",
       "    <tr>\n",
       "      <th>2</th>\n",
       "      <td>50</td>\n",
       "      <td>0</td>\n",
       "      <td>conflict</td>\n",
       "      <td>1</td>\n",
       "      <td>51</td>\n",
       "      <td>227</td>\n",
       "      <td>31</td>\n",
       "      <td>50</td>\n",
       "      <td>1333</td>\n",
       "      <td>1188</td>\n",
       "    </tr>\n",
       "    <tr>\n",
       "      <th>3</th>\n",
       "      <td>50</td>\n",
       "      <td>0</td>\n",
       "      <td>neighbour</td>\n",
       "      <td>1</td>\n",
       "      <td>62</td>\n",
       "      <td>292</td>\n",
       "      <td>33</td>\n",
       "      <td>57</td>\n",
       "      <td>1417</td>\n",
       "      <td>1248</td>\n",
       "    </tr>\n",
       "    <tr>\n",
       "      <th>4</th>\n",
       "      <td>50</td>\n",
       "      <td>1</td>\n",
       "      <td>ML</td>\n",
       "      <td>1</td>\n",
       "      <td>59</td>\n",
       "      <td>263</td>\n",
       "      <td>53</td>\n",
       "      <td>58</td>\n",
       "      <td>1434</td>\n",
       "      <td>1307</td>\n",
       "    </tr>\n",
       "  </tbody>\n",
       "</table>\n",
       "</div>"
      ],
      "text/plain": [
       "   Agent  Seed  Heuristic  Solved  HNode  LNode  Time  Makespan   SOC   SOL\n",
       "0     50     0         ML       1     44    200    74        43  1320  1184\n",
       "1     50     0   distance       1     44    198    31        43  1326  1193\n",
       "2     50     0   conflict       1     51    227    31        50  1333  1188\n",
       "3     50     0  neighbour       1     62    292    33        57  1417  1248\n",
       "4     50     1         ML       1     59    263    53        58  1434  1307"
      ]
     },
     "execution_count": 2,
     "metadata": {},
     "output_type": "execute_result"
    }
   ],
   "source": [
    "data.head(5)"
   ]
  },
  {
   "cell_type": "code",
   "execution_count": 3,
   "id": "b3a08cc5-5af2-4084-8afa-ae3030c4d1bb",
   "metadata": {},
   "outputs": [
    {
     "data": {
      "text/plain": [
       "Agent  Heuristic\n",
       "50     ML           500\n",
       "       conflict     500\n",
       "       distance     500\n",
       "       neighbour    500\n",
       "100    ML           500\n",
       "       conflict     500\n",
       "       distance     500\n",
       "       neighbour    500\n",
       "150    ML           500\n",
       "       conflict     500\n",
       "       distance     500\n",
       "       neighbour    500\n",
       "200    ML           500\n",
       "       conflict     500\n",
       "       distance     500\n",
       "       neighbour    500\n",
       "250    ML           500\n",
       "       conflict     500\n",
       "       distance     500\n",
       "       neighbour    500\n",
       "Name: Solved, dtype: int64"
      ]
     },
     "execution_count": 3,
     "metadata": {},
     "output_type": "execute_result"
    }
   ],
   "source": [
    "data.groupby(['Agent', 'Heuristic'])['Solved'].sum()"
   ]
  },
  {
   "cell_type": "code",
   "execution_count": 16,
   "id": "4675dad1-9239-4775-8cf9-477e10f797c9",
   "metadata": {},
   "outputs": [
    {
     "name": "stdout",
     "output_type": "stream",
     "text": [
      "Group: 50\n",
      "Heuristic\n",
      "ML           23948\n",
      "conflict     25237\n",
      "distance     23817\n",
      "neighbour    28155\n",
      "Name: Makespan, dtype: int64\n",
      "Group: 100\n",
      "Heuristic\n",
      "ML           25952\n",
      "conflict     29543\n",
      "distance     25413\n",
      "neighbour    38718\n",
      "Name: Makespan, dtype: int64\n",
      "Group: 150\n",
      "Heuristic\n",
      "ML           28098\n",
      "conflict     34426\n",
      "distance     26591\n",
      "neighbour    49872\n",
      "Name: Makespan, dtype: int64\n",
      "Group: 200\n",
      "Heuristic\n",
      "ML           30775\n",
      "conflict     39817\n",
      "distance     27817\n",
      "neighbour    63508\n",
      "Name: Makespan, dtype: int64\n",
      "Group: 250\n",
      "Heuristic\n",
      "ML           33690\n",
      "conflict     47308\n",
      "distance     29458\n",
      "neighbour    77185\n",
      "Name: Makespan, dtype: int64\n"
     ]
    }
   ],
   "source": [
    "# Accuracy\n",
    "for agent, group in data.groupby('Agent'):\n",
    "    print(f\"Group: {agent}\")\n",
    "    print(group.groupby('Heuristic')['Makespan'].sum())\n"
   ]
  },
  {
   "cell_type": "code",
   "execution_count": 7,
   "id": "c2617af5-6332-44fd-a369-00b04132b213",
   "metadata": {},
   "outputs": [
    {
     "name": "stdout",
     "output_type": "stream",
     "text": [
      "Group: 50\n",
      "<class 'pandas.core.frame.DataFrame'>\n",
      "Group: 100\n",
      "<class 'pandas.core.frame.DataFrame'>\n",
      "Group: 150\n",
      "<class 'pandas.core.frame.DataFrame'>\n",
      "Group: 200\n",
      "<class 'pandas.core.frame.DataFrame'>\n",
      "Group: 250\n",
      "<class 'pandas.core.frame.DataFrame'>\n"
     ]
    }
   ],
   "source": [
    "# group by agent\n",
    "grouped_A = data.groupby('Agent')\n",
    "agent_wise_data = {}\n",
    "for Agent, group_A in grouped_A:\n",
    "    print(f\"Group: {Agent}\")\n",
    "    print(type(group_A))    \n",
    "    agent_wise_data[Agent] = group\n",
    "    "
   ]
  },
  {
   "cell_type": "code",
   "execution_count": 8,
   "id": "4bdf7fee-3166-4f10-8e78-36a3a80fb6e2",
   "metadata": {},
   "outputs": [
    {
     "data": {
      "text/html": [
       "<div>\n",
       "<style scoped>\n",
       "    .dataframe tbody tr th:only-of-type {\n",
       "        vertical-align: middle;\n",
       "    }\n",
       "\n",
       "    .dataframe tbody tr th {\n",
       "        vertical-align: top;\n",
       "    }\n",
       "\n",
       "    .dataframe thead th {\n",
       "        text-align: right;\n",
       "    }\n",
       "</style>\n",
       "<table border=\"1\" class=\"dataframe\">\n",
       "  <thead>\n",
       "    <tr style=\"text-align: right;\">\n",
       "      <th></th>\n",
       "      <th>Agent</th>\n",
       "      <th>Seed</th>\n",
       "      <th>Heuristic</th>\n",
       "      <th>Solved</th>\n",
       "      <th>HNode</th>\n",
       "      <th>LNode</th>\n",
       "      <th>Time</th>\n",
       "      <th>Makespan</th>\n",
       "      <th>SOC</th>\n",
       "      <th>SOL</th>\n",
       "    </tr>\n",
       "  </thead>\n",
       "  <tbody>\n",
       "    <tr>\n",
       "      <th>8000</th>\n",
       "      <td>250</td>\n",
       "      <td>0</td>\n",
       "      <td>ML</td>\n",
       "      <td>1</td>\n",
       "      <td>69</td>\n",
       "      <td>313</td>\n",
       "      <td>66</td>\n",
       "      <td>67</td>\n",
       "      <td>10095</td>\n",
       "      <td>8579</td>\n",
       "    </tr>\n",
       "    <tr>\n",
       "      <th>8001</th>\n",
       "      <td>250</td>\n",
       "      <td>0</td>\n",
       "      <td>distance</td>\n",
       "      <td>1</td>\n",
       "      <td>57</td>\n",
       "      <td>258</td>\n",
       "      <td>55</td>\n",
       "      <td>56</td>\n",
       "      <td>9532</td>\n",
       "      <td>8294</td>\n",
       "    </tr>\n",
       "    <tr>\n",
       "      <th>8002</th>\n",
       "      <td>250</td>\n",
       "      <td>0</td>\n",
       "      <td>conflict</td>\n",
       "      <td>1</td>\n",
       "      <td>69</td>\n",
       "      <td>314</td>\n",
       "      <td>57</td>\n",
       "      <td>68</td>\n",
       "      <td>10587</td>\n",
       "      <td>8620</td>\n",
       "    </tr>\n",
       "  </tbody>\n",
       "</table>\n",
       "</div>"
      ],
      "text/plain": [
       "      Agent  Seed Heuristic  Solved  HNode  LNode  Time  Makespan    SOC   SOL\n",
       "8000    250     0        ML       1     69    313    66        67  10095  8579\n",
       "8001    250     0  distance       1     57    258    55        56   9532  8294\n",
       "8002    250     0  conflict       1     69    314    57        68  10587  8620"
      ]
     },
     "execution_count": 8,
     "metadata": {},
     "output_type": "execute_result"
    }
   ],
   "source": [
    "agent_wise_data[50].head(3)"
   ]
  },
  {
   "cell_type": "code",
   "execution_count": 9,
   "id": "8b0756db-77bb-4411-b75f-34ca924edf9f",
   "metadata": {},
   "outputs": [
    {
     "data": {
      "text/plain": [
       "Seed\n",
       "0      44602\n",
       "1      41582\n",
       "2      42339\n",
       "3      44721\n",
       "4      42289\n",
       "       ...  \n",
       "495    42169\n",
       "496    46008\n",
       "497    41347\n",
       "498    39626\n",
       "499    39793\n",
       "Name: SOC, Length: 500, dtype: int64"
      ]
     },
     "execution_count": 9,
     "metadata": {},
     "output_type": "execute_result"
    }
   ],
   "source": [
    "a_50 = agent_wise_data[200]\n",
    "a_50_g = a_50.groupby('Seed')\n",
    "a_50_g['SOC'].sum()"
   ]
  },
  {
   "cell_type": "code",
   "execution_count": 14,
   "id": "0beb8ba0-fcf8-4708-9c09-95908b1882a4",
   "metadata": {},
   "outputs": [
    {
     "name": "stdout",
     "output_type": "stream",
     "text": [
      "Heuristic\n",
      "distance    334\n",
      "ML          167\n",
      "Name: count, dtype: int64\n"
     ]
    }
   ],
   "source": [
    "g_val = 'Seed'\n",
    "matrix = 'SOC'\n",
    "min_values = a_50.groupby(g_val)[matrix].min()\n",
    "\n",
    "# Filtering the rows with the minimum value for each 'seed'\n",
    "min_value_rows = a_50[a_50.set_index([g_val, matrix]).index.isin(min_values.reset_index().set_index([g_val, matrix]).index)]\n",
    "\n",
    "# Counting the occurrences of each 'heuristic' in the result\n",
    "count_by_heuristic = min_value_rows['Heuristic'].value_counts()\n",
    "print(count_by_heuristic)"
   ]
  },
  {
   "cell_type": "code",
   "execution_count": null,
   "id": "b29d36ab-18a8-4ce8-91ef-5bd3113c4cf8",
   "metadata": {},
   "outputs": [],
   "source": []
  },
  {
   "cell_type": "code",
   "execution_count": 17,
   "id": "cb4f0b4c-73c0-41f2-bcfb-06555834ad41",
   "metadata": {},
   "outputs": [
    {
     "data": {
      "image/png": "[encoded data removed]",
      "text/plain": [
       "<Figure size 640x480 with 1 Axes>"
      ]
     },
     "metadata": {},
     "output_type": "display_data"
    }
   ],
   "source": [
    "import pandas as pd\n",
    "import matplotlib.pyplot as plt\n",
    "\n",
    "# Assuming your dataframe is named 'df'\n",
    "# Replace 'your_dataframe.csv' with the actual filename if you are reading from a CSV file\n",
    "# df = pd.read_csv('your_dataframe.csv')\n",
    "\n",
    "# Example dataframe creation\n",
    "df= data\n",
    "\n",
    "# Group by 'agent' and 'heuristic', calculate the average time for each group\n",
    "grouped_df = df.groupby(['Agent', 'Heuristic']).mean().reset_index()\n",
    "\n",
    "# Pivot the table to have 'agent' as columns, 'heuristic' as index, and 'time' as values\n",
    "pivot_df = grouped_df.pivot(index='Agent', columns='Heuristic', values='Time')\n",
    "\n",
    "# Plot the data using a line chart\n",
    "pivot_df.plot(kind='line', marker='o')\n",
    "plt.xlabel('Heuristic')\n",
    "plt.ylabel('Average Time')\n",
    "plt.title('Average Time for Each Heuristic and Agent')\n",
    "plt.legend(title='Agent')\n",
    "plt.grid(True)\n",
    "plt.show()\n"
   ]
  },
  {
   "cell_type": "code",
   "execution_count": null,
   "id": "50ba1dc0-3f37-4712-8441-24cc91ed2c94",
   "metadata": {},
   "outputs": [],
   "source": []
  }
 ],
 "metadata": {
  "kernelspec": {
   "display_name": "Python 3 (ipykernel)",
   "language": "python",
   "name": "python3"
  },
  "language_info": {
   "codemirror_mode": {
    "name": "ipython",
    "version": 3
   },
   "file_extension": ".py",
   "mimetype": "text/x-python",
   "name": "python",
   "nbconvert_exporter": "python",
   "pygments_lexer": "ipython3",
   "version": "3.10.12"
  }
 },
 "nbformat": 4,
 "nbformat_minor": 5
}
