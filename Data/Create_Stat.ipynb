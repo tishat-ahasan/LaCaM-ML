{
 "cells": [
  {
   "cell_type": "code",
   "execution_count": 63,
   "id": "1b9f2854-e046-40da-b2f7-a0a7173deddc",
   "metadata": {},
   "outputs": [],
   "source": [
    "import pandas as pd\n",
    "data = pd.read_csv('Stat_32by32/data_on_500_instance_2.txt')\n",
    "data = data[data['Solved'] != 0]"
   ]
  },
  {
   "cell_type": "code",
   "execution_count": 64,
   "id": "baae16bf-e939-4e74-bd6d-9f891f2742d9",
   "metadata": {},
   "outputs": [
    {
     "data": {
      "text/html": [
       "<div>\n",
       "<style scoped>\n",
       "    .dataframe tbody tr th:only-of-type {\n",
       "        vertical-align: middle;\n",
       "    }\n",
       "\n",
       "    .dataframe tbody tr th {\n",
       "        vertical-align: top;\n",
       "    }\n",
       "\n",
       "    .dataframe thead th {\n",
       "        text-align: right;\n",
       "    }\n",
       "</style>\n",
       "<table border=\"1\" class=\"dataframe\">\n",
       "  <thead>\n",
       "    <tr style=\"text-align: right;\">\n",
       "      <th></th>\n",
       "      <th>Agent</th>\n",
       "      <th>Seed</th>\n",
       "      <th>Heuristic</th>\n",
       "      <th>Solved</th>\n",
       "      <th>HNode</th>\n",
       "      <th>LNode</th>\n",
       "      <th>Time</th>\n",
       "      <th>Makespan</th>\n",
       "      <th>SOC</th>\n",
       "      <th>SOL</th>\n",
       "    </tr>\n",
       "  </thead>\n",
       "  <tbody>\n",
       "    <tr>\n",
       "      <th>0</th>\n",
       "      <td>50</td>\n",
       "      <td>0</td>\n",
       "      <td>ML</td>\n",
       "      <td>1</td>\n",
       "      <td>45</td>\n",
       "      <td>209</td>\n",
       "      <td>61</td>\n",
       "      <td>44</td>\n",
       "      <td>1335</td>\n",
       "      <td>1264</td>\n",
       "    </tr>\n",
       "    <tr>\n",
       "      <th>1</th>\n",
       "      <td>50</td>\n",
       "      <td>0</td>\n",
       "      <td>distance</td>\n",
       "      <td>1</td>\n",
       "      <td>45</td>\n",
       "      <td>211</td>\n",
       "      <td>1</td>\n",
       "      <td>44</td>\n",
       "      <td>1353</td>\n",
       "      <td>1274</td>\n",
       "    </tr>\n",
       "    <tr>\n",
       "      <th>2</th>\n",
       "      <td>50</td>\n",
       "      <td>0</td>\n",
       "      <td>conflict</td>\n",
       "      <td>1</td>\n",
       "      <td>46</td>\n",
       "      <td>216</td>\n",
       "      <td>1</td>\n",
       "      <td>45</td>\n",
       "      <td>1339</td>\n",
       "      <td>1256</td>\n",
       "    </tr>\n",
       "    <tr>\n",
       "      <th>3</th>\n",
       "      <td>50</td>\n",
       "      <td>0</td>\n",
       "      <td>neighbour</td>\n",
       "      <td>1</td>\n",
       "      <td>45</td>\n",
       "      <td>199</td>\n",
       "      <td>1</td>\n",
       "      <td>44</td>\n",
       "      <td>1320</td>\n",
       "      <td>1259</td>\n",
       "    </tr>\n",
       "    <tr>\n",
       "      <th>4</th>\n",
       "      <td>50</td>\n",
       "      <td>1</td>\n",
       "      <td>ML</td>\n",
       "      <td>1</td>\n",
       "      <td>57</td>\n",
       "      <td>261</td>\n",
       "      <td>58</td>\n",
       "      <td>56</td>\n",
       "      <td>1425</td>\n",
       "      <td>1269</td>\n",
       "    </tr>\n",
       "  </tbody>\n",
       "</table>\n",
       "</div>"
      ],
      "text/plain": [
       "   Agent  Seed  Heuristic  Solved  HNode  LNode  Time  Makespan   SOC   SOL\n",
       "0     50     0         ML       1     45    209    61        44  1335  1264\n",
       "1     50     0   distance       1     45    211     1        44  1353  1274\n",
       "2     50     0   conflict       1     46    216     1        45  1339  1256\n",
       "3     50     0  neighbour       1     45    199     1        44  1320  1259\n",
       "4     50     1         ML       1     57    261    58        56  1425  1269"
      ]
     },
     "execution_count": 64,
     "metadata": {},
     "output_type": "execute_result"
    }
   ],
   "source": [
    "data.head(5)"
   ]
  },
  {
   "cell_type": "code",
   "execution_count": 65,
   "id": "b3a08cc5-5af2-4084-8afa-ae3030c4d1bb",
   "metadata": {},
   "outputs": [
    {
     "data": {
      "text/plain": [
       "(9901, 10)"
      ]
     },
     "execution_count": 65,
     "metadata": {},
     "output_type": "execute_result"
    }
   ],
   "source": [
    "data.shape"
   ]
  },
  {
   "cell_type": "code",
   "execution_count": 81,
   "id": "4675dad1-9239-4775-8cf9-477e10f797c9",
   "metadata": {},
   "outputs": [
    {
     "name": "stdout",
     "output_type": "stream",
     "text": [
      "Group: 50\n",
      "Heuristic\n",
      "ML           23147\n",
      "conflict     24627\n",
      "distance     23566\n",
      "neighbour    27880\n",
      "Name: Makespan, dtype: int64\n",
      "Group: 100\n",
      "Heuristic\n",
      "ML           24885\n",
      "conflict     29228\n",
      "distance     25274\n",
      "neighbour    37444\n",
      "Name: Makespan, dtype: int64\n",
      "Group: 150\n",
      "Heuristic\n",
      "ML           27896\n",
      "conflict     34117\n",
      "distance     26553\n",
      "neighbour    50337\n",
      "Name: Makespan, dtype: int64\n",
      "Group: 200\n",
      "Heuristic\n",
      "ML           29519\n",
      "conflict     39775\n",
      "distance     27735\n",
      "neighbour    61846\n",
      "Name: Makespan, dtype: int64\n",
      "Group: 250\n",
      "Heuristic\n",
      "ML           32817\n",
      "conflict     47044\n",
      "distance     29639\n",
      "neighbour    79277\n",
      "Name: Makespan, dtype: int64\n"
     ]
    }
   ],
   "source": [
    "# Accuracy\n",
    "for agent, group in data.groupby('Agent'):\n",
    "    print(f\"Group: {agent}\")\n",
    "    print(group.groupby('Heuristic')['Makespan'].sum())\n"
   ]
  },
  {
   "cell_type": "code",
   "execution_count": 73,
   "id": "c2617af5-6332-44fd-a369-00b04132b213",
   "metadata": {},
   "outputs": [
    {
     "name": "stdout",
     "output_type": "stream",
     "text": [
      "Group: 50\n",
      "<class 'pandas.core.frame.DataFrame'>\n",
      "Group: 100\n",
      "<class 'pandas.core.frame.DataFrame'>\n",
      "Group: 150\n",
      "<class 'pandas.core.frame.DataFrame'>\n",
      "Group: 200\n",
      "<class 'pandas.core.frame.DataFrame'>\n",
      "Group: 250\n",
      "<class 'pandas.core.frame.DataFrame'>\n"
     ]
    }
   ],
   "source": [
    "# group by agent\n",
    "grouped_A = data.groupby('Agent')\n",
    "agent_wise_data = {}\n",
    "for Agent, group_A in grouped_A:\n",
    "    print(f\"Group: {Agent}\")\n",
    "    print(type(group_A))    \n",
    "    agent_wise_data[Agent] = group\n",
    "    "
   ]
  },
  {
   "cell_type": "code",
   "execution_count": 57,
   "id": "4bdf7fee-3166-4f10-8e78-36a3a80fb6e2",
   "metadata": {},
   "outputs": [
    {
     "data": {
      "text/html": [
       "<div>\n",
       "<style scoped>\n",
       "    .dataframe tbody tr th:only-of-type {\n",
       "        vertical-align: middle;\n",
       "    }\n",
       "\n",
       "    .dataframe tbody tr th {\n",
       "        vertical-align: top;\n",
       "    }\n",
       "\n",
       "    .dataframe thead th {\n",
       "        text-align: right;\n",
       "    }\n",
       "</style>\n",
       "<table border=\"1\" class=\"dataframe\">\n",
       "  <thead>\n",
       "    <tr style=\"text-align: right;\">\n",
       "      <th></th>\n",
       "      <th>Agent</th>\n",
       "      <th>Seed</th>\n",
       "      <th>Heuristic</th>\n",
       "      <th>Solved</th>\n",
       "      <th>HNode</th>\n",
       "      <th>LNode</th>\n",
       "      <th>Time</th>\n",
       "      <th>Makespan</th>\n",
       "      <th>SOC</th>\n",
       "      <th>SOL</th>\n",
       "    </tr>\n",
       "  </thead>\n",
       "  <tbody>\n",
       "    <tr>\n",
       "      <th>0</th>\n",
       "      <td>50</td>\n",
       "      <td>0</td>\n",
       "      <td>ML</td>\n",
       "      <td>1</td>\n",
       "      <td>45</td>\n",
       "      <td>209</td>\n",
       "      <td>60</td>\n",
       "      <td>44</td>\n",
       "      <td>1335</td>\n",
       "      <td>1264</td>\n",
       "    </tr>\n",
       "    <tr>\n",
       "      <th>1</th>\n",
       "      <td>50</td>\n",
       "      <td>0</td>\n",
       "      <td>distance</td>\n",
       "      <td>1</td>\n",
       "      <td>45</td>\n",
       "      <td>211</td>\n",
       "      <td>1</td>\n",
       "      <td>44</td>\n",
       "      <td>1353</td>\n",
       "      <td>1274</td>\n",
       "    </tr>\n",
       "    <tr>\n",
       "      <th>2</th>\n",
       "      <td>50</td>\n",
       "      <td>0</td>\n",
       "      <td>conflict</td>\n",
       "      <td>1</td>\n",
       "      <td>46</td>\n",
       "      <td>216</td>\n",
       "      <td>1</td>\n",
       "      <td>45</td>\n",
       "      <td>1339</td>\n",
       "      <td>1256</td>\n",
       "    </tr>\n",
       "  </tbody>\n",
       "</table>\n",
       "</div>"
      ],
      "text/plain": [
       "   Agent  Seed Heuristic  Solved  HNode  LNode  Time  Makespan   SOC   SOL\n",
       "0     50     0        ML       1     45    209    60        44  1335  1264\n",
       "1     50     0  distance       1     45    211     1        44  1353  1274\n",
       "2     50     0  conflict       1     46    216     1        45  1339  1256"
      ]
     },
     "execution_count": 57,
     "metadata": {},
     "output_type": "execute_result"
    }
   ],
   "source": [
    "agent_wise_data[50].head(3)"
   ]
  },
  {
   "cell_type": "code",
   "execution_count": 76,
   "id": "8b0756db-77bb-4411-b75f-34ca924edf9f",
   "metadata": {},
   "outputs": [
    {
     "data": {
      "text/plain": [
       "Seed\n",
       "0      44068\n",
       "1      54942\n",
       "2      38852\n",
       "3      41898\n",
       "4      43607\n",
       "       ...  \n",
       "495    28719\n",
       "496    40672\n",
       "497    41822\n",
       "498    42167\n",
       "499    45795\n",
       "Name: SOC, Length: 500, dtype: int64"
      ]
     },
     "execution_count": 76,
     "metadata": {},
     "output_type": "execute_result"
    }
   ],
   "source": [
    "a_50 = agent_wise_data[200]\n",
    "a_50_g = a_50.groupby('Seed')\n",
    "a_50_g['SOC'].sum()"
   ]
  },
  {
   "cell_type": "code",
   "execution_count": 78,
   "id": "0beb8ba0-fcf8-4708-9c09-95908b1882a4",
   "metadata": {},
   "outputs": [
    {
     "name": "stdout",
     "output_type": "stream",
     "text": [
      "Heuristic\n",
      "distance    407\n",
      "ML           93\n",
      "Name: count, dtype: int64\n"
     ]
    }
   ],
   "source": [
    "g_val = 'Seed'\n",
    "matrix = 'SOC'\n",
    "min_values = a_50.groupby(g_val)[matrix].min()\n",
    "\n",
    "# Filtering the rows with the minimum value for each 'seed'\n",
    "min_value_rows = a_50[a_50.set_index([g_val, matrix]).index.isin(min_values.reset_index().set_index([g_val, matrix]).index)]\n",
    "\n",
    "# Counting the occurrences of each 'heuristic' in the result\n",
    "count_by_heuristic = min_value_rows['Heuristic'].value_counts()\n",
    "print(count_by_heuristic)"
   ]
  },
  {
   "cell_type": "code",
   "execution_count": null,
   "id": "b29d36ab-18a8-4ce8-91ef-5bd3113c4cf8",
   "metadata": {},
   "outputs": [],
   "source": []
  },
  {
   "cell_type": "code",
   "execution_count": null,
   "id": "cb4f0b4c-73c0-41f2-bcfb-06555834ad41",
   "metadata": {},
   "outputs": [],
   "source": []
  }
 ],
 "metadata": {
  "kernelspec": {
   "display_name": "Python 3 (ipykernel)",
   "language": "python",
   "name": "python3"
  },
  "language_info": {
   "codemirror_mode": {
    "name": "ipython",
    "version": 3
   },
   "file_extension": ".py",
   "mimetype": "text/x-python",
   "name": "python",
   "nbconvert_exporter": "python",
   "pygments_lexer": "ipython3",
   "version": "3.10.12"
  }
 },
 "nbformat": 4,
 "nbformat_minor": 5
}
