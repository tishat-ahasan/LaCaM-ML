{
 "cells": [
  {
   "cell_type": "code",
   "execution_count": 2,
   "id": "1b9f2854-e046-40da-b2f7-a0a7173deddc",
   "metadata": {},
   "outputs": [],
   "source": [
    "import pandas as pd\n",
    "data = pd.read_csv('Stat_32by32/data_on_1000_instance_2.txt')\n",
    "data = data[data['Solved'] != 0]"
   ]
  },
  {
   "cell_type": "code",
   "execution_count": 3,
   "id": "baae16bf-e939-4e74-bd6d-9f891f2742d9",
   "metadata": {},
   "outputs": [
    {
     "data": {
      "text/html": [
       "<div>\n",
       "<style scoped>\n",
       "    .dataframe tbody tr th:only-of-type {\n",
       "        vertical-align: middle;\n",
       "    }\n",
       "\n",
       "    .dataframe tbody tr th {\n",
       "        vertical-align: top;\n",
       "    }\n",
       "\n",
       "    .dataframe thead th {\n",
       "        text-align: right;\n",
       "    }\n",
       "</style>\n",
       "<table border=\"1\" class=\"dataframe\">\n",
       "  <thead>\n",
       "    <tr style=\"text-align: right;\">\n",
       "      <th></th>\n",
       "      <th>Agent</th>\n",
       "      <th>Seed</th>\n",
       "      <th>Heuristic</th>\n",
       "      <th>Solved</th>\n",
       "      <th>HNode</th>\n",
       "      <th>LNode</th>\n",
       "      <th>Time</th>\n",
       "      <th>Makespan</th>\n",
       "      <th>SOC</th>\n",
       "      <th>SOL</th>\n",
       "    </tr>\n",
       "  </thead>\n",
       "  <tbody>\n",
       "    <tr>\n",
       "      <th>0</th>\n",
       "      <td>50</td>\n",
       "      <td>0</td>\n",
       "      <td>ML</td>\n",
       "      <td>1</td>\n",
       "      <td>46</td>\n",
       "      <td>201</td>\n",
       "      <td>68</td>\n",
       "      <td>45</td>\n",
       "      <td>1310</td>\n",
       "      <td>1171</td>\n",
       "    </tr>\n",
       "    <tr>\n",
       "      <th>1</th>\n",
       "      <td>50</td>\n",
       "      <td>0</td>\n",
       "      <td>distance</td>\n",
       "      <td>1</td>\n",
       "      <td>44</td>\n",
       "      <td>198</td>\n",
       "      <td>52</td>\n",
       "      <td>43</td>\n",
       "      <td>1326</td>\n",
       "      <td>1193</td>\n",
       "    </tr>\n",
       "    <tr>\n",
       "      <th>2</th>\n",
       "      <td>50</td>\n",
       "      <td>0</td>\n",
       "      <td>conflict</td>\n",
       "      <td>1</td>\n",
       "      <td>51</td>\n",
       "      <td>227</td>\n",
       "      <td>31</td>\n",
       "      <td>50</td>\n",
       "      <td>1333</td>\n",
       "      <td>1188</td>\n",
       "    </tr>\n",
       "    <tr>\n",
       "      <th>3</th>\n",
       "      <td>50</td>\n",
       "      <td>0</td>\n",
       "      <td>neighbour</td>\n",
       "      <td>1</td>\n",
       "      <td>62</td>\n",
       "      <td>292</td>\n",
       "      <td>31</td>\n",
       "      <td>57</td>\n",
       "      <td>1417</td>\n",
       "      <td>1248</td>\n",
       "    </tr>\n",
       "    <tr>\n",
       "      <th>4</th>\n",
       "      <td>50</td>\n",
       "      <td>1</td>\n",
       "      <td>ML</td>\n",
       "      <td>1</td>\n",
       "      <td>57</td>\n",
       "      <td>256</td>\n",
       "      <td>31</td>\n",
       "      <td>56</td>\n",
       "      <td>1359</td>\n",
       "      <td>1280</td>\n",
       "    </tr>\n",
       "  </tbody>\n",
       "</table>\n",
       "</div>"
      ],
      "text/plain": [
       "   Agent  Seed  Heuristic  Solved  HNode  LNode  Time  Makespan   SOC   SOL\n",
       "0     50     0         ML       1     46    201    68        45  1310  1171\n",
       "1     50     0   distance       1     44    198    52        43  1326  1193\n",
       "2     50     0   conflict       1     51    227    31        50  1333  1188\n",
       "3     50     0  neighbour       1     62    292    31        57  1417  1248\n",
       "4     50     1         ML       1     57    256    31        56  1359  1280"
      ]
     },
     "execution_count": 3,
     "metadata": {},
     "output_type": "execute_result"
    }
   ],
   "source": [
    "data.head(5)"
   ]
  },
  {
   "cell_type": "code",
   "execution_count": 4,
   "id": "b3a08cc5-5af2-4084-8afa-ae3030c4d1bb",
   "metadata": {},
   "outputs": [
    {
     "data": {
      "text/plain": [
       "Agent  Heuristic\n",
       "50     ML           1000\n",
       "       conflict     1000\n",
       "       distance     1000\n",
       "       neighbour    1000\n",
       "100    ML           1000\n",
       "       conflict     1000\n",
       "       distance     1000\n",
       "       neighbour    1000\n",
       "150    ML           1000\n",
       "       conflict     1000\n",
       "       distance     1000\n",
       "       neighbour    1000\n",
       "200    ML           1000\n",
       "       conflict     1000\n",
       "       distance     1000\n",
       "       neighbour    1000\n",
       "250    ML           1000\n",
       "       conflict      999\n",
       "       distance     1000\n",
       "       neighbour    1000\n",
       "Name: Solved, dtype: int64"
      ]
     },
     "execution_count": 4,
     "metadata": {},
     "output_type": "execute_result"
    }
   ],
   "source": [
    "data.groupby(['Agent', 'Heuristic'])['Solved'].sum()"
   ]
  },
  {
   "cell_type": "code",
   "execution_count": 5,
   "id": "4675dad1-9239-4775-8cf9-477e10f797c9",
   "metadata": {},
   "outputs": [
    {
     "name": "stdout",
     "output_type": "stream",
     "text": [
      "Group: 50\n",
      "Heuristic\n",
      "ML           1277453\n",
      "conflict     1285700\n",
      "distance     1273215\n",
      "neighbour    1330418\n",
      "Name: SOC, dtype: int64\n",
      "Group: 100\n",
      "Heuristic\n",
      "ML           2902431\n",
      "conflict     2975543\n",
      "distance     2859414\n",
      "neighbour    3222470\n",
      "Name: SOC, dtype: int64\n",
      "Group: 150\n",
      "Heuristic\n",
      "ML           4797110\n",
      "conflict     5067251\n",
      "distance     4700295\n",
      "neighbour    5716996\n",
      "Name: SOC, dtype: int64\n",
      "Group: 200\n",
      "Heuristic\n",
      "ML           7005677\n",
      "conflict     7632787\n",
      "distance     6813126\n",
      "neighbour    9096962\n",
      "Name: SOC, dtype: int64\n",
      "Group: 250\n",
      "Heuristic\n",
      "ML            9705803\n",
      "conflict     10786523\n",
      "distance      9277652\n",
      "neighbour    13318319\n",
      "Name: SOC, dtype: int64\n"
     ]
    }
   ],
   "source": [
    "# Accuracy\n",
    "for agent, group in data.groupby('Agent'):\n",
    "    print(f\"Group: {agent}\")\n",
    "    print(group.groupby('Heuristic')['SOC'].sum())\n"
   ]
  },
  {
   "cell_type": "code",
   "execution_count": 6,
   "id": "c2617af5-6332-44fd-a369-00b04132b213",
   "metadata": {},
   "outputs": [
    {
     "name": "stdout",
     "output_type": "stream",
     "text": [
      "Group: 50\n",
      "<class 'pandas.core.frame.DataFrame'>\n",
      "Group: 100\n",
      "<class 'pandas.core.frame.DataFrame'>\n",
      "Group: 150\n",
      "<class 'pandas.core.frame.DataFrame'>\n",
      "Group: 200\n",
      "<class 'pandas.core.frame.DataFrame'>\n",
      "Group: 250\n",
      "<class 'pandas.core.frame.DataFrame'>\n"
     ]
    }
   ],
   "source": [
    "# group by agent\n",
    "grouped_A = data.groupby('Agent')\n",
    "agent_wise_data = {}\n",
    "for Agent, group_A in grouped_A:\n",
    "    print(f\"Group: {Agent}\")\n",
    "    print(type(group_A))    \n",
    "    agent_wise_data[Agent] = group\n",
    "    "
   ]
  },
  {
   "cell_type": "code",
   "execution_count": 7,
   "id": "4bdf7fee-3166-4f10-8e78-36a3a80fb6e2",
   "metadata": {},
   "outputs": [
    {
     "data": {
      "text/html": [
       "<div>\n",
       "<style scoped>\n",
       "    .dataframe tbody tr th:only-of-type {\n",
       "        vertical-align: middle;\n",
       "    }\n",
       "\n",
       "    .dataframe tbody tr th {\n",
       "        vertical-align: top;\n",
       "    }\n",
       "\n",
       "    .dataframe thead th {\n",
       "        text-align: right;\n",
       "    }\n",
       "</style>\n",
       "<table border=\"1\" class=\"dataframe\">\n",
       "  <thead>\n",
       "    <tr style=\"text-align: right;\">\n",
       "      <th></th>\n",
       "      <th>Agent</th>\n",
       "      <th>Seed</th>\n",
       "      <th>Heuristic</th>\n",
       "      <th>Solved</th>\n",
       "      <th>HNode</th>\n",
       "      <th>LNode</th>\n",
       "      <th>Time</th>\n",
       "      <th>Makespan</th>\n",
       "      <th>SOC</th>\n",
       "      <th>SOL</th>\n",
       "    </tr>\n",
       "  </thead>\n",
       "  <tbody>\n",
       "    <tr>\n",
       "      <th>16000</th>\n",
       "      <td>250</td>\n",
       "      <td>0</td>\n",
       "      <td>ML</td>\n",
       "      <td>1</td>\n",
       "      <td>92</td>\n",
       "      <td>434</td>\n",
       "      <td>39</td>\n",
       "      <td>87</td>\n",
       "      <td>9994</td>\n",
       "      <td>8601</td>\n",
       "    </tr>\n",
       "    <tr>\n",
       "      <th>16001</th>\n",
       "      <td>250</td>\n",
       "      <td>0</td>\n",
       "      <td>distance</td>\n",
       "      <td>1</td>\n",
       "      <td>57</td>\n",
       "      <td>258</td>\n",
       "      <td>36</td>\n",
       "      <td>56</td>\n",
       "      <td>9532</td>\n",
       "      <td>8294</td>\n",
       "    </tr>\n",
       "    <tr>\n",
       "      <th>16002</th>\n",
       "      <td>250</td>\n",
       "      <td>0</td>\n",
       "      <td>conflict</td>\n",
       "      <td>1</td>\n",
       "      <td>69</td>\n",
       "      <td>314</td>\n",
       "      <td>37</td>\n",
       "      <td>68</td>\n",
       "      <td>10587</td>\n",
       "      <td>8620</td>\n",
       "    </tr>\n",
       "  </tbody>\n",
       "</table>\n",
       "</div>"
      ],
      "text/plain": [
       "       Agent  Seed Heuristic  Solved  HNode  LNode  Time  Makespan    SOC  \\\n",
       "16000    250     0        ML       1     92    434    39        87   9994   \n",
       "16001    250     0  distance       1     57    258    36        56   9532   \n",
       "16002    250     0  conflict       1     69    314    37        68  10587   \n",
       "\n",
       "        SOL  \n",
       "16000  8601  \n",
       "16001  8294  \n",
       "16002  8620  "
      ]
     },
     "execution_count": 7,
     "metadata": {},
     "output_type": "execute_result"
    }
   ],
   "source": [
    "agent_wise_data[50].head(3)"
   ]
  },
  {
   "cell_type": "code",
   "execution_count": 8,
   "id": "8b0756db-77bb-4411-b75f-34ca924edf9f",
   "metadata": {},
   "outputs": [
    {
     "data": {
      "text/plain": [
       "Seed\n",
       "0      44501\n",
       "1      42559\n",
       "2      45183\n",
       "3      44544\n",
       "4      41752\n",
       "       ...  \n",
       "995    38690\n",
       "996    45967\n",
       "997    43169\n",
       "998    41012\n",
       "999    44430\n",
       "Name: SOC, Length: 1000, dtype: int64"
      ]
     },
     "execution_count": 8,
     "metadata": {},
     "output_type": "execute_result"
    }
   ],
   "source": [
    "a_50 = agent_wise_data[200]\n",
    "a_50_g = a_50.groupby('Seed')\n",
    "a_50_g['SOC'].sum()"
   ]
  },
  {
   "cell_type": "code",
   "execution_count": 9,
   "id": "0beb8ba0-fcf8-4708-9c09-95908b1882a4",
   "metadata": {},
   "outputs": [
    {
     "name": "stdout",
     "output_type": "stream",
     "text": [
      "Heuristic\n",
      "distance     763\n",
      "ML           192\n",
      "conflict      35\n",
      "neighbour     12\n",
      "Name: count, dtype: int64\n"
     ]
    }
   ],
   "source": [
    "g_val = 'Seed'\n",
    "matrix = 'LNode'\n",
    "min_values = a_50.groupby(g_val)[matrix].min()\n",
    "\n",
    "# Filtering the rows with the minimum value for each 'seed'\n",
    "min_value_rows = a_50[a_50.set_index([g_val, matrix]).index.isin(min_values.reset_index().set_index([g_val, matrix]).index)]\n",
    "\n",
    "# Counting the occurrences of each 'heuristic' in the result\n",
    "count_by_heuristic = min_value_rows['Heuristic'].value_counts()\n",
    "print(count_by_heuristic)"
   ]
  },
  {
   "cell_type": "code",
   "execution_count": null,
   "id": "b29d36ab-18a8-4ce8-91ef-5bd3113c4cf8",
   "metadata": {},
   "outputs": [],
   "source": []
  },
  {
   "cell_type": "code",
   "execution_count": null,
   "id": "cb4f0b4c-73c0-41f2-bcfb-06555834ad41",
   "metadata": {},
   "outputs": [],
   "source": []
  }
 ],
 "metadata": {
  "kernelspec": {
   "display_name": "Python 3 (ipykernel)",
   "language": "python",
   "name": "python3"
  },
  "language_info": {
   "codemirror_mode": {
    "name": "ipython",
    "version": 3
   },
   "file_extension": ".py",
   "mimetype": "text/x-python",
   "name": "python",
   "nbconvert_exporter": "python",
   "pygments_lexer": "ipython3",
   "version": "3.10.12"
  }
 },
 "nbformat": 4,
 "nbformat_minor": 5
}
